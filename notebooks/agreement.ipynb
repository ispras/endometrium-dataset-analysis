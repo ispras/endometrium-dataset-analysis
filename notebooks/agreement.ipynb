{
 "cells": [
  {
   "cell_type": "code",
   "execution_count": 1,
   "id": "a2b0e5ca-a1de-4e6a-95e4-051e9b5130c2",
   "metadata": {},
   "outputs": [],
   "source": [
    "import os\n",
    "import copy\n",
    "import numpy as np\n",
    "import itertools\n",
    "import matplotlib.pyplot as plt\n",
    "import krippendorff\n",
    "from endoanalysis.dataset import PointsDataset\n",
    "from endoanalysis.agreement import OKSimilarity, compose_batch_relaibility_matrix\n"
   ]
  },
  {
   "cell_type": "code",
   "execution_count": 2,
   "id": "395490ea-2f94-4302-b88f-ac53ea132d02",
   "metadata": {
    "tags": []
   },
   "outputs": [],
   "source": [
    "agreement_dir = \"../../points-detection/data/agreement/\"\n",
    "experts = [ \"alexandra\", \"tatyana\", \"ekaterina\", \"maria\", \"nikita\", \"olesya\", \"konstantin\"]\n",
    "\n",
    "datasets = {}\n",
    "dataloaders = {}\n",
    "datasets_lens = {}\n",
    "keypoints  = {}\n",
    "datasets = {}\n",
    "\n",
    "for annotator_name in experts:\n",
    "    files_list = os.path.join(agreement_dir, annotator_name, \"all.txt\")\n",
    "    dataset = PointsDataset(\n",
    "        files_list, \n",
    "        keypoints_dtype = float\n",
    "    )\n",
    "    datasets_lens[annotator_name] = len(dataset)\n",
    "    datasets[annotator_name] = dataset\n",
    "    \n",
    "    keypoints[annotator_name] = dataset.collate()[\"keypoints\"]\n",
    "#     keypoints[annotator_name] = next(iter(dataloader))[\"keypoints\"]\n",
    "    "
   ]
  },
  {
   "cell_type": "code",
   "execution_count": 3,
   "id": "f961c06c-2203-4679-8888-7a76013a006b",
   "metadata": {},
   "outputs": [],
   "source": [
    "datasets_lens_list = list(datasets_lens.values())\n",
    "if len(np.unique(datasets_lens_list)) != 1:\n",
    "    raise Exception(\"Some annotators have different numbe of images than the others\")\n",
    "else:\n",
    "    num_images = datasets_lens_list[0]"
   ]
  },
  {
   "cell_type": "code",
   "execution_count": 4,
   "id": "58ea18a3-feac-4f8a-864e-1c7709f22974",
   "metadata": {},
   "outputs": [],
   "source": [
    "similarity = OKSimilarity(scale=7.36)"
   ]
  },
  {
   "cell_type": "code",
   "execution_count": 5,
   "id": "2524c3ac-0854-4a90-8f53-fe53c754842a",
   "metadata": {},
   "outputs": [],
   "source": [
    "experts = ['alexandra', 'tatyana', 'konstantin']"
   ]
  },
  {
   "cell_type": "code",
   "execution_count": 6,
   "id": "aa9d6fda-397e-4ab1-ae87-7c74cb8bff03",
   "metadata": {},
   "outputs": [],
   "source": [
    "relaibility_matrix = compose_batch_relaibility_matrix(\n",
    "    keypoints,\n",
    "    experts, \n",
    "    OKSimilarity(scale=7.36), \n",
    "    sim_thresh=0.5, \n",
    "    images_indexes=[0,1,2,3,4,5,6,7,8,9], \n",
    "    missings_as_classes=False, \n",
    "    class_agnostic=False\n",
    ")"
   ]
  },
  {
   "cell_type": "code",
   "execution_count": 8,
   "id": "aabb358c-58ed-4002-9ef0-bbe59e1b0dbe",
   "metadata": {},
   "outputs": [
    {
     "data": {
      "text/plain": [
       "0.7524699579571368"
      ]
     },
     "execution_count": 8,
     "metadata": {},
     "output_type": "execute_result"
    }
   ],
   "source": [
    "krippendorff.alpha(relaibility_matrix, level_of_measurement=\"nominal\")"
   ]
  },
  {
   "cell_type": "code",
   "execution_count": 13,
   "id": "880a6341-a829-445e-9d95-492ac0a0815a",
   "metadata": {},
   "outputs": [
    {
     "name": "stdout",
     "output_type": "stream",
     "text": [
      "ekaterina 0.24947165679064265\n",
      "maria 0.27076376188470297\n",
      "nikita 0.2685662085088737\n",
      "olesya 0.830132492925135\n"
     ]
    }
   ],
   "source": [
    "base_experts = [  \"tatyana\"]\n",
    "for student in [\"ekaterina\", \"maria\", \"nikita\", \"olesya\"]:\n",
    "    experts = base_experts + [student]\n",
    "    relaibility_matrix = compose_batch_relaibility_matrix(\n",
    "        keypoints, \n",
    "        experts, \n",
    "        OKSimilarity(scale=7.36), \n",
    "        sim_thresh=0.5, \n",
    "        images_indexes=list(range(10)), \n",
    "        missings_as_classes=False, \n",
    "        class_agnostic=False\n",
    "    )\n",
    "    alpha = krippendorff.alpha(relaibility_matrix, level_of_measurement=\"nominal\")\n",
    "    print(student, alpha)"
   ]
  },
  {
   "cell_type": "code",
   "execution_count": 17,
   "id": "83ca3613-30d0-4495-ac7a-9c5d387fab94",
   "metadata": {},
   "outputs": [],
   "source": [
    "experts = [ \"alexandra\", \"tatyana\", 'konstantin', \"ekaterina\", \"maria\", \"nikita\", \"olesya\"]"
   ]
  },
  {
   "cell_type": "code",
   "execution_count": 18,
   "id": "a4402bc6-0323-48cc-a853-43b04312e675",
   "metadata": {},
   "outputs": [],
   "source": [
    "num_images = 10\n",
    "keypoints_nums = np.zeros((len(experts), num_images))\n",
    "\n",
    "for expert_i, expert in enumerate(experts):\n",
    "    keypoints_num_expert = [len(keypoints[expert].from_image(image_i)) for image_i in range(num_images)]\n",
    "    keypoints_nums[expert_i] = np.array(keypoints_num_expert)\n"
   ]
  },
  {
   "cell_type": "code",
   "execution_count": 19,
   "id": "0dffdc20-5126-4572-a69a-a95b0a98ea71",
   "metadata": {},
   "outputs": [
    {
     "data": {
      "text/plain": [
       "0.8304877317100609"
      ]
     },
     "execution_count": 19,
     "metadata": {},
     "output_type": "execute_result"
    }
   ],
   "source": [
    "krippendorff.alpha(reliability_data=keypoints_nums, level_of_measurement=\"ordinal\")"
   ]
  },
  {
   "cell_type": "code",
   "execution_count": 20,
   "id": "cb6edff8-9733-45a6-bb07-5ca8abe216c8",
   "metadata": {
    "tags": []
   },
   "outputs": [
    {
     "name": "stdout",
     "output_type": "stream",
     "text": [
      "ekaterina 0.9028571428571428\n",
      "maria 0.8542857142857143\n",
      "nikita 0.5971428571428572\n",
      "olesya 0.78\n"
     ]
    }
   ],
   "source": [
    "num_images = 10\n",
    "base_experts = [  \"tatyana\"]\n",
    "for student in [\"ekaterina\", \"maria\", \"nikita\", \"olesya\"]:\n",
    "    experts = base_experts + [student]\n",
    "    \n",
    "    keypoints_nums = np.zeros((len(experts), num_images))\n",
    "\n",
    "    for expert_i, expert in enumerate(experts):\n",
    "        keypoints_num_expert = [len(keypoints[expert].from_image(image_i)) for image_i in range(num_images)]\n",
    "        keypoints_nums[expert_i] = np.array(keypoints_num_expert)\n",
    "    alpha = krippendorff.alpha(reliability_data=keypoints_nums, level_of_measurement=\"ordinal\")\n",
    "    print(student, alpha)"
   ]
  },
  {
   "cell_type": "code",
   "execution_count": 9,
   "id": "7101078d-fd7f-4243-94f2-4ea62758fd79",
   "metadata": {},
   "outputs": [
    {
     "data": {
      "image/png": "[encoded data removed]",
      "text/plain": [
       "<Figure size 1152x360 with 1 Axes>"
      ]
     },
     "metadata": {
      "needs_background": "light"
     },
     "output_type": "display_data"
    }
   ],
   "source": [
    "experts = [ \"alexandra\", \"tatyana\", 'konstantin', \"ekaterina\", \"maria\", \"nikita\", \"olesya\"]\n",
    "\n",
    "# experts = [ \"alexandra\", \"tatyana\", 'konstantin']\n",
    "# fig, ax = plt.subplots(1, figsize=(16,5))\n",
    "\n",
    "# keypoints_nums = np.zeros((len(experts), num_images))\n",
    "\n",
    "# for expert_i, expert in enumerate(experts):\n",
    "#     keypoints_num_expert = [len(keypoints[expert].from_image(image_i)) for image_i in range(num_images)]\n",
    "#     keypoints_nums[expert_i] = np.array(keypoints_num_expert)\n",
    "\n",
    "# x = np.arange(10)\n",
    "# for idx in range(len(experts)):\n",
    "#     ax.set_xticks(np.arange(10))\n",
    "#     ax.bar(x - idx*0.12 , keypoints_nums[idx], width=0.12 , align='center', edgecolor='black', zorder=1)\n",
    "#     ax.legend(experts)\n",
    "#     ax.grid(b=True,axis=\"y\", zorder=2)\n",
    "    "
   ]
  },
  {
   "cell_type": "code",
   "execution_count": 26,
   "id": "2d102779-0318-437f-b5e3-34b7a8eb5d0c",
   "metadata": {},
   "outputs": [
    {
     "data": {
      "text/plain": [
       "0.8304877317100609"
      ]
     },
     "execution_count": 26,
     "metadata": {},
     "output_type": "execute_result"
    }
   ],
   "source": [
    "krippendorff.alpha(reliability_data=keypoints_nums, level_of_measurement=\"ordinal\")"
   ]
  },
  {
   "cell_type": "code",
   "execution_count": null,
   "id": "dd4e00e7-d18d-4a19-b3ec-6bc5f5dea137",
   "metadata": {},
   "outputs": [],
   "source": []
  }
 ],
 "metadata": {
  "kernelspec": {
   "display_name": "venv_histo_analyzer",
   "language": "python",
   "name": "venv_histo_analyzer"
  },
  "language_info": {
   "codemirror_mode": {
    "name": "ipython",
    "version": 3
   },
   "file_extension": ".py",
   "mimetype": "text/x-python",
   "name": "python",
   "nbconvert_exporter": "python",
   "pygments_lexer": "ipython3",
   "version": "3.8.10"
  }
 },
 "nbformat": 4,
 "nbformat_minor": 5
}
