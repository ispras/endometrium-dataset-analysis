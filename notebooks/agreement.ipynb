{
 "cells": [
  {
   "cell_type": "markdown",
   "id": "4db64cb2-8368-4ed5-b9b8-0c32c98c99c8",
   "metadata": {},
   "source": [
    "# Agreement study"
   ]
  },
  {
   "cell_type": "code",
   "execution_count": 5,
   "id": "c3663e83-7594-4997-8f4f-e03041face25",
   "metadata": {},
   "outputs": [],
   "source": [
    "import itertools\n",
    "import matplotlib.pyplot as plt\n",
    "\n",
    "from endoanalysis.similarity import KPSimilarity\n",
    "from endoanalysis.agreement import compute_kappas, load_agreement_keypoints\n",
    "from endoanalysis.datasets import PointsDataset\n",
    "from endoanalysis.agreement import plot_agreement_matrices, compute_icc, plot_numbers, get_keypoints_nums\n",
    "from endoanalysis.agreement import ptg_agreement, stud_agreement, ptg_stud_agreement"
   ]
  },
  {
   "cell_type": "markdown",
   "id": "3c1c8373-f692-4557-b27d-a878ee8ac68d",
   "metadata": {},
   "source": [
    "Our agreement study consists of 3 parts: preliminary, hidden and posterior studies. The files corresponding to each of them can be accesed with the help of the following yaml files:"
   ]
  },
  {
   "cell_type": "code",
   "execution_count": 7,
   "id": "dcfc6016-b198-4af1-80c6-bf780d2c76e0",
   "metadata": {},
   "outputs": [],
   "source": [
    "YMLS = [\n",
    "    \"../data/master_ymls/preliminary_agreement.yaml\",\n",
    "    \"../data/master_ymls/hidden_agreement.yaml\",\n",
    "    \"../data/master_ymls/posterior_agreement.yaml\"  \n",
    "]\n",
    "STUDIES = [\"preliminary\", \"hidden\", \"posterior\"]\n",
    "EXPERTS =  ['ptg1', 'ptg2', 'ptg3', \"stud1\", \"stud2\", \"stud3\", \"stud4\"]"
   ]
  },
  {
   "cell_type": "markdown",
   "id": "753bf950-929a-4d87-b429-e626b6c62138",
   "metadata": {},
   "source": [
    "We also define a scale parameter for OK Similarity to perform a matching between the keypoints. We take this parameter s a mean radius of a nucleus:"
   ]
  },
  {
   "cell_type": "code",
   "execution_count": 8,
   "id": "862a0a93-9b78-4e0a-a5b0-b054db234b4a",
   "metadata": {},
   "outputs": [],
   "source": [
    "SCALE = 7.63\n",
    "similarity = KPSimilarity(scale=SCALE)"
   ]
  },
  {
   "cell_type": "markdown",
   "id": "273e4591-74e5-4113-9638-8089bc01e237",
   "metadata": {},
   "source": [
    "No we compute the kappas between each pair of experts. For each pair the following is done under the hood:\n",
    "\n",
    "1) A similarity matrix between all the keypoints from expert_i and expet_j is composed\n",
    "2) Linear sum assignemnt problem is solved to create a matching\n",
    "3) With the help of the matching and the keypoints classes the Cohen kappa is calculated\n",
    "\n",
    "Note, that there are two methods to deal with unmatched points: the first one is to skip them, and the second one is assign them a special class (background).\n",
    "\n",
    "The first method will helps to estimate the agreement only on class labels but not on the keypoints numbers. The second method gives information about both kinds of errors, so it results in lesser kappa values."
   ]
  },
  {
   "cell_type": "markdown",
   "id": "38cfad13-91c8-43f8-846c-aa34b2d78edf",
   "metadata": {},
   "source": [
    "Let's start with the first method:"
   ]
  },
  {
   "cell_type": "code",
   "execution_count": 9,
   "id": "303e1450-7c3e-45f4-a13c-70afb69571a6",
   "metadata": {},
   "outputs": [
    {
     "ename": "IndexError",
     "evalue": "list index out of range",
     "output_type": "error",
     "traceback": [
      "\u001b[0;31m---------------------------------------------------------------------------\u001b[0m",
      "\u001b[0;31mIndexError\u001b[0m                                Traceback (most recent call last)",
      "\u001b[0;32m<ipython-input-9-ba32ff279307>\u001b[0m in \u001b[0;36m<module>\u001b[0;34m\u001b[0m\n\u001b[1;32m      5\u001b[0m \u001b[0;34m\u001b[0m\u001b[0m\n\u001b[1;32m      6\u001b[0m \u001b[0;32mfor\u001b[0m \u001b[0mstudy_name\u001b[0m\u001b[0;34m,\u001b[0m \u001b[0myml_path\u001b[0m \u001b[0;32min\u001b[0m \u001b[0mzip\u001b[0m\u001b[0;34m(\u001b[0m\u001b[0mSTUDIES\u001b[0m\u001b[0;34m,\u001b[0m \u001b[0mYMLS\u001b[0m\u001b[0;34m)\u001b[0m\u001b[0;34m:\u001b[0m\u001b[0;34m\u001b[0m\u001b[0;34m\u001b[0m\u001b[0m\n\u001b[0;32m----> 7\u001b[0;31m     \u001b[0mkeypoints\u001b[0m \u001b[0;34m=\u001b[0m \u001b[0mload_agreement_keypoints\u001b[0m\u001b[0;34m(\u001b[0m\u001b[0myml_path\u001b[0m\u001b[0;34m)\u001b[0m\u001b[0;34m\u001b[0m\u001b[0;34m\u001b[0m\u001b[0m\n\u001b[0m\u001b[1;32m      8\u001b[0m     kappas_study, experts_to_ids = compute_kappas(\n\u001b[1;32m      9\u001b[0m         \u001b[0mkeypoints\u001b[0m\u001b[0;34m,\u001b[0m\u001b[0;34m\u001b[0m\u001b[0;34m\u001b[0m\u001b[0m\n",
      "\u001b[0;32m~/hdd_storage/endometrium-histo-analyser/endometrium-dataset-analysis/endoanalysis/agreement.py\u001b[0m in \u001b[0;36mload_agreement_keypoints\u001b[0;34m(agreement_yml_path)\u001b[0m\n\u001b[1;32m    208\u001b[0m         \u001b[0mdatasets\u001b[0m\u001b[0;34m[\u001b[0m\u001b[0mexpert_name\u001b[0m\u001b[0;34m]\u001b[0m \u001b[0;34m=\u001b[0m \u001b[0mdataset\u001b[0m\u001b[0;34m\u001b[0m\u001b[0;34m\u001b[0m\u001b[0m\n\u001b[1;32m    209\u001b[0m \u001b[0;34m\u001b[0m\u001b[0m\n\u001b[0;32m--> 210\u001b[0;31m         \u001b[0mkeypoints\u001b[0m\u001b[0;34m[\u001b[0m\u001b[0mexpert_name\u001b[0m\u001b[0;34m]\u001b[0m \u001b[0;34m=\u001b[0m \u001b[0mdataset\u001b[0m\u001b[0;34m.\u001b[0m\u001b[0mcollate\u001b[0m\u001b[0;34m(\u001b[0m\u001b[0;34m(\u001b[0m\u001b[0mdataset\u001b[0m\u001b[0;34m[\u001b[0m\u001b[0mx\u001b[0m\u001b[0;34m]\u001b[0m \u001b[0;32mfor\u001b[0m \u001b[0mx\u001b[0m \u001b[0;32min\u001b[0m \u001b[0mrange\u001b[0m\u001b[0;34m(\u001b[0m\u001b[0mdatasets_lens\u001b[0m\u001b[0;34m[\u001b[0m\u001b[0mexpert_name\u001b[0m\u001b[0;34m]\u001b[0m\u001b[0;34m)\u001b[0m\u001b[0;34m)\u001b[0m\u001b[0;34m)\u001b[0m\u001b[0;34m[\u001b[0m\u001b[0;34m\"keypoints\"\u001b[0m\u001b[0;34m]\u001b[0m\u001b[0;34m\u001b[0m\u001b[0;34m\u001b[0m\u001b[0m\n\u001b[0m\u001b[1;32m    211\u001b[0m \u001b[0;34m\u001b[0m\u001b[0m\n\u001b[1;32m    212\u001b[0m         \u001b[0mdatasets_lens_list\u001b[0m \u001b[0;34m=\u001b[0m \u001b[0mlist\u001b[0m\u001b[0;34m(\u001b[0m\u001b[0mdatasets_lens\u001b[0m\u001b[0;34m.\u001b[0m\u001b[0mvalues\u001b[0m\u001b[0;34m(\u001b[0m\u001b[0;34m)\u001b[0m\u001b[0;34m)\u001b[0m\u001b[0;34m\u001b[0m\u001b[0;34m\u001b[0m\u001b[0m\n",
      "\u001b[0;32m~/hdd_storage/endometrium-histo-analyser/endometrium-dataset-analysis/endoanalysis/datasets.py\u001b[0m in \u001b[0;36mcollate\u001b[0;34m(self, samples)\u001b[0m\n\u001b[1;32m    189\u001b[0m         return_dict = {\n\u001b[1;32m    190\u001b[0m             \u001b[0;34m\"image\"\u001b[0m\u001b[0;34m:\u001b[0m \u001b[0mnp\u001b[0m\u001b[0;34m.\u001b[0m\u001b[0mstack\u001b[0m\u001b[0;34m(\u001b[0m\u001b[0mimages\u001b[0m\u001b[0;34m,\u001b[0m \u001b[0;36m0\u001b[0m\u001b[0;34m)\u001b[0m\u001b[0;34m,\u001b[0m\u001b[0;34m\u001b[0m\u001b[0;34m\u001b[0m\u001b[0m\n\u001b[0;32m--> 191\u001b[0;31m             \u001b[0;34m\"keypoints\"\u001b[0m\u001b[0;34m:\u001b[0m \u001b[0mkeypoints_list_to_batch\u001b[0m\u001b[0;34m(\u001b[0m\u001b[0mkeypoints_groups\u001b[0m\u001b[0;34m)\u001b[0m\u001b[0;34m,\u001b[0m\u001b[0;34m\u001b[0m\u001b[0;34m\u001b[0m\u001b[0m\n\u001b[0m\u001b[1;32m    192\u001b[0m         }\n\u001b[1;32m    193\u001b[0m \u001b[0;34m\u001b[0m\u001b[0m\n",
      "\u001b[0;32m~/hdd_storage/endometrium-histo-analyser/endometrium-dataset-analysis/endoanalysis/targets.py\u001b[0m in \u001b[0;36mkeypoints_list_to_batch\u001b[0;34m(keypoints_list)\u001b[0m\n\u001b[1;32m    383\u001b[0m \u001b[0;34m\u001b[0m\u001b[0m\n\u001b[1;32m    384\u001b[0m \u001b[0;34m\u001b[0m\u001b[0m\n\u001b[0;32m--> 385\u001b[0;31m     \u001b[0mcurrent_type\u001b[0m \u001b[0;34m=\u001b[0m \u001b[0mtype\u001b[0m\u001b[0;34m(\u001b[0m\u001b[0mkeypoints_list\u001b[0m\u001b[0;34m[\u001b[0m\u001b[0;36m0\u001b[0m\u001b[0;34m]\u001b[0m\u001b[0;34m)\u001b[0m\u001b[0;34m\u001b[0m\u001b[0;34m\u001b[0m\u001b[0m\n\u001b[0m\u001b[1;32m    386\u001b[0m \u001b[0;34m\u001b[0m\u001b[0m\n\u001b[1;32m    387\u001b[0m     \u001b[0;32mif\u001b[0m \u001b[0mcurrent_type\u001b[0m \u001b[0;34m==\u001b[0m \u001b[0mKeypoints\u001b[0m\u001b[0;34m:\u001b[0m\u001b[0;34m\u001b[0m\u001b[0;34m\u001b[0m\u001b[0m\n",
      "\u001b[0;31mIndexError\u001b[0m: list index out of range"
     ]
    }
   ],
   "source": [
    "DROP_MISSED = True\n",
    "\n",
    "experts_mapping = {expert: expert_i for expert_i, expert in enumerate(EXPERTS)}\n",
    "kappas = {}\n",
    "\n",
    "for study_name, yml_path in zip(STUDIES, YMLS):\n",
    "    keypoints = load_agreement_keypoints(yml_path)\n",
    "    kappas_study, experts_to_ids = compute_kappas(\n",
    "        keypoints,\n",
    "        similarity,\n",
    "        EXPERTS,\n",
    "        drop_missed=DROP_MISSED\n",
    "    )\n",
    "    kappas[study_name] = kappas_study\n",
    "\n",
    "fig, ax = plot_agreement_matrices(kappas, STUDIES, EXPERTS)\n",
    "# fig.savefig(\"figs/kappas_drop\", dpi=300, bbox_inches='tight')\n",
    "    "
   ]
  },
  {
   "cell_type": "markdown",
   "id": "add32d55-145d-4944-9994-5e2134060d7c",
   "metadata": {},
   "source": [
    "To get an estimate about overall annotation quality, we measire three quantities for each study: the mean betwwen the pathologists, the mean kappa between the students and the mean cappa in pathologist-student pairs:"
   ]
  },
  {
   "cell_type": "code",
   "execution_count": null,
   "id": "a0ecaa27-1c49-42b9-924a-f7c0c6c120ba",
   "metadata": {},
   "outputs": [],
   "source": [
    "for study_name in STUDIES:\n",
    "    ptg_mean_kappa = ptg_agreement(kappas[study_name], EXPERTS, experts_mapping)\n",
    "    stud_mean_kappa = stud_agreement(kappas[study_name], EXPERTS, experts_mapping)\n",
    "    ptg_stud_mean_kappa = ptg_stud_agreement(kappas[study_name], EXPERTS, experts_mapping)\n",
    "    print(\"%s study\"%study_name)\n",
    "    print(\"ptg: %.2f  stud: %.2f  ptg-stud: %.2f\"%(ptg_mean_kappa, stud_mean_kappa, ptg_stud_mean_kappa))\n",
    "    print()"
   ]
  },
  {
   "cell_type": "markdown",
   "id": "2cd242e9-0380-4726-957b-ddce41573073",
   "metadata": {},
   "source": [
    "As we can see, the agreement in the hidden and posterior studies is quite good -- this is probably a result of the Q&A session which folowed the preliminary study\n"
   ]
  },
  {
   "cell_type": "markdown",
   "id": "b95cc771-debb-410a-bb0b-aeecdbeed1ba",
   "metadata": {},
   "source": [
    "Now let's look at the kappas which take into account missed keypoints:"
   ]
  },
  {
   "cell_type": "code",
   "execution_count": null,
   "id": "ae08580e-b62e-4d6e-afbc-6e3b90427655",
   "metadata": {},
   "outputs": [],
   "source": [
    "DROP_MISSED = False\n",
    "\n",
    "experts_mapping = {expert: expert_i for expert_i, expert in enumerate(EXPERTS)}\n",
    "kappas = {}\n",
    "\n",
    "for study_name, yml_path in zip(STUDIES, YMLS):\n",
    "    keypoints = load_agreement_keypoints(yml_path)\n",
    "    kappas_study, experts_to_ids = compute_kappas(\n",
    "        keypoints,\n",
    "        similarity,\n",
    "        EXPERTS,\n",
    "        drop_missed=DROP_MISSED\n",
    "    )\n",
    "    kappas[study_name] = kappas_study\n",
    "\n",
    "fig, ax = plot_agreement_matrices(kappas, STUDIES, EXPERTS)\n",
    "# fig.savefig(\"figs/kappas_no_drop\", dpi=300,bbox_inches='tight')\n",
    "for study_name in STUDIES:\n",
    "    ptg_mean_kappa = ptg_agreement(kappas[study_name], EXPERTS, experts_mapping)\n",
    "    stud_mean_kappa = stud_agreement(kappas[study_name], EXPERTS, experts_mapping)\n",
    "    ptg_stud_mean_kappa = ptg_stud_agreement(kappas[study_name], EXPERTS, experts_mapping)\n",
    "    print(\"%s study\"%study_name)\n",
    "    print(\"ptg: %.2f  stud: %.2f  ptg-stud: %.2f\"%(ptg_mean_kappa, stud_mean_kappa, ptg_stud_mean_kappa))\n",
    "    print()"
   ]
  },
  {
   "cell_type": "markdown",
   "id": "efdb8d77-2bad-46a5-9992-b4336fd50a29",
   "metadata": {},
   "source": [
    "As we can see, the kappa values are notably less than in the previous observation. However, we not, that:\n",
    "\n",
    "1) Kappa values between the pathologists are still big enough\n",
    "2) The kappa values became higher after the priliminary study"
   ]
  },
  {
   "cell_type": "markdown",
   "id": "bc6552b2-72ba-4b4f-b522-4552a2ef460f",
   "metadata": {},
   "source": [
    "Now let's look only on the keypoints numbers. To calculate the agreement, we use intraclass correlation coefficient #2:"
   ]
  },
  {
   "cell_type": "code",
   "execution_count": null,
   "id": "a7d2f4e6-dc83-40cd-874b-829bcff86f4f",
   "metadata": {},
   "outputs": [],
   "source": [
    "EXPERTS = [\"ptg1\", \"ptg2\",\"ptg3\", \"stud1\", \"stud2\", \"stud3\"] \n",
    "experts_mapping = {x: experts_mapping[x] for x in EXPERTS}"
   ]
  },
  {
   "cell_type": "code",
   "execution_count": null,
   "id": "733adb62-4a77-4eff-bb47-3499e8e1f6dd",
   "metadata": {
    "tags": []
   },
   "outputs": [],
   "source": [
    "iccs = {}\n",
    "keypoints_nums = {}\n",
    "for study_name, yml_path in zip(STUDIES, YMLS):\n",
    "    keypoints = load_agreement_keypoints(yml_path)\n",
    "    keypoints_nums_study = get_keypoints_nums(keypoints, experts_mapping)\n",
    "    keypoints_nums[study_name] = keypoints_nums_study\n",
    "\n",
    "    iccs[study_name] = compute_icc(keypoints_nums_study, EXPERTS)\n",
    "    print(\"%s study, ICC2: %.3f\"%(study_name,iccs[study_name].iloc[1][\"ICC\"]))"
   ]
  },
  {
   "cell_type": "markdown",
   "id": "c9429ad3-6e8e-4cb7-9784-6d946df60cbe",
   "metadata": {},
   "source": [
    "And, finally, let's plot the keypoints numbers"
   ]
  },
  {
   "cell_type": "code",
   "execution_count": null,
   "id": "59653589-5efa-487a-ba7f-ad0b16e571cd",
   "metadata": {},
   "outputs": [],
   "source": [
    "fig = plt.figure(figsize=(18,10))\n",
    "\n",
    "gs = fig.add_gridspec(2,6)\n",
    "ax1 = fig.add_subplot(gs[0, 0:3])\n",
    "ax2 = fig.add_subplot(gs[0, 3:])\n",
    "ax3 = fig.add_subplot(gs[1, :5])\n",
    "ax4 = fig.add_subplot(gs[1, 5])\n",
    "ax1.set_title(\"preliminary\")\n",
    "ax2.set_title(\"hidden\")\n",
    "ax3.set_title(\"posterior\")\n",
    "\n",
    "_  = plot_numbers(keypoints_nums[\"preliminary\"], EXPERTS, experts_mapping, fig=fig, ax=ax1)\n",
    "_  = plot_numbers(keypoints_nums[\"hidden\"], EXPERTS,experts_mapping, fig=fig, ax=ax2)\n",
    "_,_, handles  = plot_numbers(keypoints_nums[\"posterior\"], EXPERTS, experts_mapping, fig=fig, ax=ax3)\n",
    "ax4.legend(handles, EXPERTS, loc='center')\n",
    "ax4.axis(\"off\")\n",
    "fig.subplots_adjust(hspace=0.4)\n",
    "# fig.savefig(\"figs/nuclei_numbers_agreements\", dpi=300, bbox_inches='tight')"
   ]
  },
  {
   "cell_type": "markdown",
   "id": "6131e692-2c18-41b0-a786-98cfb64ef57a",
   "metadata": {},
   "source": [
    "As we can see, there is a rated which systematicly underannotates the nuclei -- probaly that's the reason why the agreement in the stuneds group is not big"
   ]
  },
  {
   "cell_type": "code",
   "execution_count": null,
   "id": "be74c239-b5c3-415f-bae3-961dd7151883",
   "metadata": {},
   "outputs": [],
   "source": []
  }
 ],
 "metadata": {
  "interpreter": {
   "hash": "916dbcbb3f70747c44a77c7bcd40155683ae19c65e1c03b4aa3499c5328201f1"
  },
  "kernelspec": {
   "display_name": "venv_histo_analyzer",
   "language": "python",
   "name": "python3"
  },
  "language_info": {
   "codemirror_mode": {
    "name": "ipython",
    "version": 3
   },
   "file_extension": ".py",
   "mimetype": "text/x-python",
   "name": "python",
   "nbconvert_exporter": "python",
   "pygments_lexer": "ipython3",
   "version": "3.8.10"
  }
 },
 "nbformat": 4,
 "nbformat_minor": 5
}
