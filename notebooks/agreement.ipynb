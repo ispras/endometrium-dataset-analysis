{
 "cells": [
  {
   "cell_type": "code",
   "execution_count": 2,
   "id": "c3663e83-7594-4997-8f4f-e03041face25",
   "metadata": {},
   "outputs": [],
   "source": [
    "import os\n",
    "import itertools\n",
    "import numpy as np\n",
    "import matplotlib.pyplot as plt\n",
    "\n",
    "import pandas as pd\n",
    "import pingouin as pg\n",
    "\n",
    "\n",
    "from endoanalysis.agreement import OKSimilarity, compute_kappas\n",
    "from endoanalysis.datasets import PointsDataset"
   ]
  },
  {
   "cell_type": "code",
   "execution_count": 3,
   "id": "944eae5b-901a-4fa1-9a33-23d09a630660",
   "metadata": {},
   "outputs": [],
   "source": [
    "similarity = OKSimilarity(scale=7.36)"
   ]
  },
  {
   "cell_type": "code",
   "execution_count": 4,
   "id": "395604a2-1243-44e2-bd1f-75870cffb810",
   "metadata": {},
   "outputs": [],
   "source": [
    "agreement_dir = \"../data/Dataset/files_lists/Agreement/Hidden/Complete/\"\n",
    "raters = ['Ptg3', 'Stud1', 'Stud2', 'Stud3']\n",
    "# raters = [ 'Stud1', 'Ptg3', 'Ptg3']\n",
    "\n",
    "datasets = {}\n",
    "dataloaders = {}\n",
    "datasets_lens = {}\n",
    "keypoints  = {}\n",
    "datasets = {}\n",
    "\n",
    "for expert_name in raters:\n",
    "    images_file_list = os.path.join(agreement_dir, expert_name, \"images.txt\")\n",
    "    labels_file_list = os.path.join(agreement_dir, expert_name, \"labels.txt\")\n",
    "    dataset = PointsDataset(\n",
    "        images_file_list,\n",
    "        labels_file_list,\n",
    "        keypoints_dtype = float\n",
    "    )\n",
    "    datasets_lens[expert_name] = len(dataset)\n",
    "    datasets[expert_name] = dataset\n",
    "    \n",
    "    keypoints[expert_name] = dataset.collate()[\"keypoints\"]\n",
    "\n",
    "    "
   ]
  },
  {
   "cell_type": "code",
   "execution_count": 5,
   "id": "b9be3eeb-9a19-48fe-b247-bd6ad207db40",
   "metadata": {},
   "outputs": [
    {
     "data": {
      "text/plain": [
       "20"
      ]
     },
     "execution_count": 5,
     "metadata": {},
     "output_type": "execute_result"
    }
   ],
   "source": [
    "len(datasets['Ptg3'])"
   ]
  },
  {
   "cell_type": "code",
   "execution_count": 150,
   "id": "c981f01e-2a47-4020-b46d-1711b8cb019f",
   "metadata": {},
   "outputs": [
    {
     "data": {
      "text/plain": [
       "['../data/Dataset/images/Agreement/Hidden/Complete/Ptg3/1857.png',\n",
       " '../data/Dataset/images/Agreement/Hidden/Complete/Ptg3/1940.png',\n",
       " '../data/Dataset/images/Agreement/Hidden/Complete/Ptg3/1980.png',\n",
       " '../data/Dataset/images/Agreement/Hidden/Complete/Ptg3/2170.png',\n",
       " '../data/Dataset/images/Agreement/Hidden/Complete/Ptg3/2417.png',\n",
       " '../data/Dataset/images/Agreement/Hidden/Complete/Ptg3/2535.png',\n",
       " '../data/Dataset/images/Agreement/Hidden/Complete/Ptg3/2614.png',\n",
       " '../data/Dataset/images/Agreement/Hidden/Complete/Ptg3/2631.png',\n",
       " '../data/Dataset/images/Agreement/Hidden/Complete/Ptg3/2651.png',\n",
       " '../data/Dataset/images/Agreement/Hidden/Complete/Ptg3/2669.png',\n",
       " '../data/Dataset/images/Agreement/Hidden/Complete/Ptg3/2709.png',\n",
       " '../data/Dataset/images/Agreement/Hidden/Complete/Ptg3/2716.png',\n",
       " '../data/Dataset/images/Agreement/Hidden/Complete/Ptg3/3614.png',\n",
       " '../data/Dataset/images/Agreement/Hidden/Complete/Ptg3/3749.png',\n",
       " '../data/Dataset/images/Agreement/Hidden/Complete/Ptg3/3906.png',\n",
       " '../data/Dataset/images/Agreement/Hidden/Complete/Ptg3/4036.png',\n",
       " '../data/Dataset/images/Agreement/Hidden/Complete/Ptg3/4310.png',\n",
       " '../data/Dataset/images/Agreement/Hidden/Complete/Ptg3/4511.png',\n",
       " '../data/Dataset/images/Agreement/Hidden/Complete/Ptg3/5063.png',\n",
       " '../data/Dataset/images/Agreement/Hidden/Complete/Ptg3/5760.png']"
      ]
     },
     "execution_count": 150,
     "metadata": {},
     "output_type": "execute_result"
    }
   ],
   "source": [
    "[x for x in datasets['Ptg3'].images_paths]"
   ]
  },
  {
   "cell_type": "code",
   "execution_count": 139,
   "id": "552f2b95-5bca-4c3c-9df1-fec73de2b05a",
   "metadata": {},
   "outputs": [],
   "source": [
    "datasets_lens_list = list(datasets_lens.values())\n",
    "if len(np.unique(datasets_lens_list)) != 1:\n",
    "    raise Exception(\"Some annotators have different numbe of images than the others\")\n",
    "else:\n",
    "    num_images = datasets_lens_list[0]"
   ]
  },
  {
   "cell_type": "code",
   "execution_count": 140,
   "id": "17265b4f-0f77-43c5-aae0-99aad15f38c2",
   "metadata": {},
   "outputs": [],
   "source": [
    "kappas = compute_kappas(\n",
    "    keypoints,\n",
    "    similarity,\n",
    "    raters,\n",
    "    range(num_images),\n",
    "    missings_as_classes=True\n",
    ")"
   ]
  },
  {
   "cell_type": "code",
   "execution_count": 141,
   "id": "e043a661-8eb4-4db7-89d6-b0d252de1753",
   "metadata": {},
   "outputs": [
    {
     "data": {
      "text/plain": [
       "[0.706286930539687,\n",
       " 0.7619024056574122,\n",
       " 0.7679515420116279,\n",
       " 0.7036309280644146,\n",
       " 0.6228629987565455,\n",
       " 0.7425017882653783]"
      ]
     },
     "execution_count": 141,
     "metadata": {},
     "output_type": "execute_result"
    }
   ],
   "source": [
    "kappas"
   ]
  },
  {
   "cell_type": "code",
   "execution_count": 142,
   "id": "3fce4a4e-1cdc-41a8-a294-757161e3402e",
   "metadata": {},
   "outputs": [
    {
     "data": {
      "text/plain": [
       "0.7175227655491776"
      ]
     },
     "execution_count": 142,
     "metadata": {},
     "output_type": "execute_result"
    }
   ],
   "source": [
    "np.mean(kappas)"
   ]
  },
  {
   "cell_type": "code",
   "execution_count": 137,
   "id": "ea915382-8201-44fe-b7a1-c2b34209a42d",
   "metadata": {},
   "outputs": [
    {
     "data": {
      "text/plain": [
       "['Ptg3', 'Stud1', 'Stud2', 'Stud3', 'Stud4']"
      ]
     },
     "execution_count": 137,
     "metadata": {},
     "output_type": "execute_result"
    }
   ],
   "source": [
    "raters"
   ]
  },
  {
   "cell_type": "code",
   "execution_count": 10,
   "id": "7a487e98-6db5-454c-88ee-a56c0dc1e0ef",
   "metadata": {},
   "outputs": [],
   "source": [
    "num_images = 10\n",
    "raters = ['Ptg3', 'Stud1', 'Stud2', 'Stud3']\n",
    "keypoints_nums = np.zeros((len(raters), num_images))\n",
    "\n",
    "for expert_i, expert in enumerate(raters):\n",
    "    keypoints_num_expert = [len(keypoints[expert].from_image(image_i)) for image_i in range(num_images)]\n",
    "    keypoints_nums[expert_i] = np.array(keypoints_num_expert)"
   ]
  },
  {
   "cell_type": "code",
   "execution_count": null,
   "id": "3e7f5e24-ae18-47ae-8701-13c926799bbf",
   "metadata": {},
   "outputs": [],
   "source": []
  },
  {
   "cell_type": "code",
   "execution_count": 11,
   "id": "2ca4f7ed-f128-410c-a666-180ae99dfece",
   "metadata": {},
   "outputs": [],
   "source": [
    "df = pd.DataFrame()"
   ]
  },
  {
   "cell_type": "code",
   "execution_count": 12,
   "id": "9ceda177-24f4-48cd-859a-028b7c8edaa0",
   "metadata": {},
   "outputs": [
    {
     "data": {
      "text/plain": [
       "array([0, 0, 1, 1, 2, 2, 3, 3, 4, 4, 5, 5, 6, 6, 7, 7, 8, 8, 9, 9])"
      ]
     },
     "execution_count": 12,
     "metadata": {},
     "output_type": "execute_result"
    }
   ],
   "source": [
    "np.arange(num_images).repeat(2)"
   ]
  },
  {
   "cell_type": "code",
   "execution_count": 13,
   "id": "83e8f9f2-3b6e-45bc-af5a-bd3b66932c5c",
   "metadata": {},
   "outputs": [
    {
     "data": {
      "text/plain": [
       "array([[122., 105., 161., 205., 180., 245., 131., 130., 165., 199.],\n",
       "       [125., 102., 145., 182., 170., 223., 127., 124., 170., 156.],\n",
       "       [111.,  95., 154., 182., 182., 261., 142., 154., 173., 179.],\n",
       "       [134., 104., 157., 203., 183., 270., 141., 150., 198., 189.]])"
      ]
     },
     "execution_count": 13,
     "metadata": {},
     "output_type": "execute_result"
    }
   ],
   "source": [
    "keypoints_nums"
   ]
  },
  {
   "cell_type": "code",
   "execution_count": null,
   "id": "f179c679-e3f5-4488-824e-04d76e93b5b7",
   "metadata": {},
   "outputs": [],
   "source": []
  },
  {
   "cell_type": "code",
   "execution_count": 14,
   "id": "26ab3306-81c7-4f76-9051-9a4eb99ffae7",
   "metadata": {},
   "outputs": [
    {
     "data": {
      "text/plain": [
       "array([[122., 105., 161., 205., 180., 245., 131., 130., 165., 199.],\n",
       "       [125., 102., 145., 182., 170., 223., 127., 124., 170., 156.],\n",
       "       [111.,  95., 154., 182., 182., 261., 142., 154., 173., 179.],\n",
       "       [134., 104., 157., 203., 183., 270., 141., 150., 198., 189.]])"
      ]
     },
     "execution_count": 14,
     "metadata": {},
     "output_type": "execute_result"
    }
   ],
   "source": [
    "keypoints_nums"
   ]
  },
  {
   "cell_type": "code",
   "execution_count": 15,
   "id": "05d8772a-ae48-44ff-b453-7cb97412fd50",
   "metadata": {},
   "outputs": [],
   "source": [
    "blocks = []\n",
    "for expert_i, row in enumerate(keypoints_nums):\n",
    "    blocks. append(np.hstack([row, np.ones(num_images) * expert_i, np.arange(num_images)]))\n",
    "    \n",
    "blocks = np.hstack(blocks)\n",
    "\n",
    "df_dict = {\n",
    "    \"rater\": np.arange(len(raters)).repeat(num_images),\n",
    "    \"image\":  np.hstack([np.arange(num_images)]* len(raters)),\n",
    "    \"nums\": keypoints_nums.flatten(order=\"C\")\n",
    "}\n",
    "\n",
    "df = pd.DataFrame(df_dict)"
   ]
  },
  {
   "cell_type": "code",
   "execution_count": 16,
   "id": "5819a524-4fd4-4b23-a6d3-151af602d88a",
   "metadata": {},
   "outputs": [
    {
     "data": {
      "text/plain": [
       "{'rater': array([0, 0, 0, 0, 0, 0, 0, 0, 0, 0, 1, 1, 1, 1, 1, 1, 1, 1, 1, 1, 2, 2,\n",
       "        2, 2, 2, 2, 2, 2, 2, 2, 3, 3, 3, 3, 3, 3, 3, 3, 3, 3]),\n",
       " 'image': array([0, 1, 2, 3, 4, 5, 6, 7, 8, 9, 0, 1, 2, 3, 4, 5, 6, 7, 8, 9, 0, 1,\n",
       "        2, 3, 4, 5, 6, 7, 8, 9, 0, 1, 2, 3, 4, 5, 6, 7, 8, 9]),\n",
       " 'nums': array([122., 105., 161., 205., 180., 245., 131., 130., 165., 199., 125.,\n",
       "        102., 145., 182., 170., 223., 127., 124., 170., 156., 111.,  95.,\n",
       "        154., 182., 182., 261., 142., 154., 173., 179., 134., 104., 157.,\n",
       "        203., 183., 270., 141., 150., 198., 189.])}"
      ]
     },
     "execution_count": 16,
     "metadata": {},
     "output_type": "execute_result"
    }
   ],
   "source": [
    "df_dict"
   ]
  },
  {
   "cell_type": "code",
   "execution_count": 17,
   "id": "074abe3d-34ef-4786-ba7c-ab099203f265",
   "metadata": {},
   "outputs": [],
   "source": [
    "icc = pg.intraclass_corr(data=df, targets='image', raters='rater',ratings='nums').round(3)"
   ]
  },
  {
   "cell_type": "code",
   "execution_count": 18,
   "id": "1eae0b84-e271-4d68-8cd1-3f430b47432f",
   "metadata": {},
   "outputs": [
    {
     "data": {
      "text/html": [
       "<div>\n",
       "<style scoped>\n",
       "    .dataframe tbody tr th:only-of-type {\n",
       "        vertical-align: middle;\n",
       "    }\n",
       "\n",
       "    .dataframe tbody tr th {\n",
       "        vertical-align: top;\n",
       "    }\n",
       "\n",
       "    .dataframe thead th {\n",
       "        text-align: right;\n",
       "    }\n",
       "</style>\n",
       "<table border=\"1\" class=\"dataframe\">\n",
       "  <thead>\n",
       "    <tr style=\"text-align: right;\">\n",
       "      <th></th>\n",
       "      <th>Type</th>\n",
       "      <th>Description</th>\n",
       "      <th>ICC</th>\n",
       "      <th>F</th>\n",
       "      <th>df1</th>\n",
       "      <th>df2</th>\n",
       "      <th>pval</th>\n",
       "      <th>CI95%</th>\n",
       "    </tr>\n",
       "  </thead>\n",
       "  <tbody>\n",
       "    <tr>\n",
       "      <th>0</th>\n",
       "      <td>ICC1</td>\n",
       "      <td>Single raters absolute</td>\n",
       "      <td>0.915</td>\n",
       "      <td>44.137</td>\n",
       "      <td>9</td>\n",
       "      <td>30</td>\n",
       "      <td>0.0</td>\n",
       "      <td>[0.8, 0.98]</td>\n",
       "    </tr>\n",
       "    <tr>\n",
       "      <th>1</th>\n",
       "      <td>ICC2</td>\n",
       "      <td>Single random raters</td>\n",
       "      <td>0.916</td>\n",
       "      <td>70.915</td>\n",
       "      <td>9</td>\n",
       "      <td>27</td>\n",
       "      <td>0.0</td>\n",
       "      <td>[0.76, 0.98]</td>\n",
       "    </tr>\n",
       "    <tr>\n",
       "      <th>2</th>\n",
       "      <td>ICC3</td>\n",
       "      <td>Single fixed raters</td>\n",
       "      <td>0.946</td>\n",
       "      <td>70.915</td>\n",
       "      <td>9</td>\n",
       "      <td>27</td>\n",
       "      <td>0.0</td>\n",
       "      <td>[0.87, 0.98]</td>\n",
       "    </tr>\n",
       "    <tr>\n",
       "      <th>3</th>\n",
       "      <td>ICC1k</td>\n",
       "      <td>Average raters absolute</td>\n",
       "      <td>0.977</td>\n",
       "      <td>44.137</td>\n",
       "      <td>9</td>\n",
       "      <td>30</td>\n",
       "      <td>0.0</td>\n",
       "      <td>[0.94, 0.99]</td>\n",
       "    </tr>\n",
       "    <tr>\n",
       "      <th>4</th>\n",
       "      <td>ICC2k</td>\n",
       "      <td>Average random raters</td>\n",
       "      <td>0.978</td>\n",
       "      <td>70.915</td>\n",
       "      <td>9</td>\n",
       "      <td>27</td>\n",
       "      <td>0.0</td>\n",
       "      <td>[0.93, 0.99]</td>\n",
       "    </tr>\n",
       "    <tr>\n",
       "      <th>5</th>\n",
       "      <td>ICC3k</td>\n",
       "      <td>Average fixed raters</td>\n",
       "      <td>0.986</td>\n",
       "      <td>70.915</td>\n",
       "      <td>9</td>\n",
       "      <td>27</td>\n",
       "      <td>0.0</td>\n",
       "      <td>[0.96, 1.0]</td>\n",
       "    </tr>\n",
       "  </tbody>\n",
       "</table>\n",
       "</div>"
      ],
      "text/plain": [
       "    Type              Description    ICC       F  df1  df2  pval         CI95%\n",
       "0   ICC1   Single raters absolute  0.915  44.137    9   30   0.0   [0.8, 0.98]\n",
       "1   ICC2     Single random raters  0.916  70.915    9   27   0.0  [0.76, 0.98]\n",
       "2   ICC3      Single fixed raters  0.946  70.915    9   27   0.0  [0.87, 0.98]\n",
       "3  ICC1k  Average raters absolute  0.977  44.137    9   30   0.0  [0.94, 0.99]\n",
       "4  ICC2k    Average random raters  0.978  70.915    9   27   0.0  [0.93, 0.99]\n",
       "5  ICC3k     Average fixed raters  0.986  70.915    9   27   0.0   [0.96, 1.0]"
      ]
     },
     "execution_count": 18,
     "metadata": {},
     "output_type": "execute_result"
    }
   ],
   "source": [
    "icc"
   ]
  },
  {
   "cell_type": "code",
   "execution_count": 19,
   "id": "c6e5ac6f-100b-4894-9265-0d90627b9dc2",
   "metadata": {},
   "outputs": [
    {
     "data": {
      "text/html": [
       "<div>\n",
       "<style scoped>\n",
       "    .dataframe tbody tr th:only-of-type {\n",
       "        vertical-align: middle;\n",
       "    }\n",
       "\n",
       "    .dataframe tbody tr th {\n",
       "        vertical-align: top;\n",
       "    }\n",
       "\n",
       "    .dataframe thead th {\n",
       "        text-align: right;\n",
       "    }\n",
       "</style>\n",
       "<table border=\"1\" class=\"dataframe\">\n",
       "  <thead>\n",
       "    <tr style=\"text-align: right;\">\n",
       "      <th></th>\n",
       "      <th>Description</th>\n",
       "      <th>ICC</th>\n",
       "      <th>F</th>\n",
       "      <th>df1</th>\n",
       "      <th>df2</th>\n",
       "      <th>pval</th>\n",
       "      <th>CI95%</th>\n",
       "    </tr>\n",
       "    <tr>\n",
       "      <th>Type</th>\n",
       "      <th></th>\n",
       "      <th></th>\n",
       "      <th></th>\n",
       "      <th></th>\n",
       "      <th></th>\n",
       "      <th></th>\n",
       "      <th></th>\n",
       "    </tr>\n",
       "  </thead>\n",
       "  <tbody>\n",
       "    <tr>\n",
       "      <th>ICC1</th>\n",
       "      <td>Single raters absolute</td>\n",
       "      <td>0.728</td>\n",
       "      <td>11.680</td>\n",
       "      <td>7</td>\n",
       "      <td>24</td>\n",
       "      <td>0.0</td>\n",
       "      <td>[0.43, 0.93]</td>\n",
       "    </tr>\n",
       "    <tr>\n",
       "      <th>ICC2</th>\n",
       "      <td>Single random raters</td>\n",
       "      <td>0.728</td>\n",
       "      <td>11.787</td>\n",
       "      <td>7</td>\n",
       "      <td>21</td>\n",
       "      <td>0.0</td>\n",
       "      <td>[0.43, 0.93]</td>\n",
       "    </tr>\n",
       "    <tr>\n",
       "      <th>ICC3</th>\n",
       "      <td>Single fixed raters</td>\n",
       "      <td>0.729</td>\n",
       "      <td>11.787</td>\n",
       "      <td>7</td>\n",
       "      <td>21</td>\n",
       "      <td>0.0</td>\n",
       "      <td>[0.43, 0.93]</td>\n",
       "    </tr>\n",
       "    <tr>\n",
       "      <th>ICC1k</th>\n",
       "      <td>Average raters absolute</td>\n",
       "      <td>0.914</td>\n",
       "      <td>11.680</td>\n",
       "      <td>7</td>\n",
       "      <td>24</td>\n",
       "      <td>0.0</td>\n",
       "      <td>[0.75, 0.98]</td>\n",
       "    </tr>\n",
       "    <tr>\n",
       "      <th>ICC2k</th>\n",
       "      <td>Average random raters</td>\n",
       "      <td>0.914</td>\n",
       "      <td>11.787</td>\n",
       "      <td>7</td>\n",
       "      <td>21</td>\n",
       "      <td>0.0</td>\n",
       "      <td>[0.75, 0.98]</td>\n",
       "    </tr>\n",
       "    <tr>\n",
       "      <th>ICC3k</th>\n",
       "      <td>Average fixed raters</td>\n",
       "      <td>0.915</td>\n",
       "      <td>11.787</td>\n",
       "      <td>7</td>\n",
       "      <td>21</td>\n",
       "      <td>0.0</td>\n",
       "      <td>[0.75, 0.98]</td>\n",
       "    </tr>\n",
       "  </tbody>\n",
       "</table>\n",
       "</div>"
      ],
      "text/plain": [
       "                   Description    ICC       F  df1  df2  pval         CI95%\n",
       "Type                                                                       \n",
       "ICC1    Single raters absolute  0.728  11.680    7   24   0.0  [0.43, 0.93]\n",
       "ICC2      Single random raters  0.728  11.787    7   21   0.0  [0.43, 0.93]\n",
       "ICC3       Single fixed raters  0.729  11.787    7   21   0.0  [0.43, 0.93]\n",
       "ICC1k  Average raters absolute  0.914  11.680    7   24   0.0  [0.75, 0.98]\n",
       "ICC2k    Average random raters  0.914  11.787    7   21   0.0  [0.75, 0.98]\n",
       "ICC3k     Average fixed raters  0.915  11.787    7   21   0.0  [0.75, 0.98]"
      ]
     },
     "execution_count": 19,
     "metadata": {},
     "output_type": "execute_result"
    }
   ],
   "source": [
    "\n",
    "\n",
    "data = pg.read_dataset('icc')\n",
    "\n",
    "icc = pg.intraclass_corr(data=data, targets='Wine', raters='Judge',\n",
    "\n",
    "                         ratings='Scores').round(3)\n",
    "\n",
    "icc.set_index(\"Type\")"
   ]
  },
  {
   "cell_type": "code",
   "execution_count": 20,
   "id": "1a14533f-5583-4a71-8ad2-972c588efb84",
   "metadata": {},
   "outputs": [
    {
     "data": {
      "image/png": "[encoded data removed]",
      "text/plain": [
       "<Figure size 1152x360 with 1 Axes>"
      ]
     },
     "metadata": {
      "needs_background": "light"
     },
     "output_type": "display_data"
    }
   ],
   "source": [
    "experts = ['Ptg3', 'Stud1', 'Stud2', 'Stud3', 'Stud4']\n",
    "\n",
    "\n",
    "fig, ax = plt.subplots(1, figsize=(16,5))\n",
    "\n",
    "keypoints_nums = np.zeros((len(experts), num_images))\n",
    "\n",
    "for expert_i, expert in enumerate(experts):\n",
    "    keypoints_num_expert = [len(keypoints[expert].from_image(image_i)) for image_i in range(num_images)]\n",
    "    keypoints_nums[expert_i] = np.array(keypoints_num_expert)\n",
    "\n",
    "x = np.arange(10)\n",
    "for idx in range(len(experts)):\n",
    "    ax.set_xticks(np.arange(10))\n",
    "    ax.bar(x - idx*0.12 , keypoints_nums[idx], width=0.12 , align='center', edgecolor='black', zorder=1)\n",
    "    ax.legend(experts)\n",
    "    ax.grid(b=True,axis=\"y\", zorder=2)"
   ]
  },
  {
   "cell_type": "code",
   "execution_count": 76,
   "id": "35d23ff0-1375-4840-b645-b0ea8af99332",
   "metadata": {},
   "outputs": [],
   "source": [
    "import itertools\n",
    "import copy\n",
    "import numpy as np\n",
    "from tqdm import tqdm\n",
    "from scipy.optimize import linear_sum_assignment\n",
    "from sklearn.metrics import cohen_kappa_score\n",
    "\n",
    "def get_batch_relaibility_matrix(\n",
    "    targets_from_batch1, \n",
    "    targets_from_batch2, \n",
    "    similarity,\n",
    "    indexes_to_consider,\n",
    "    missings_as_classes = False\n",
    "):\n",
    "    '''\n",
    "    Composes relaibility matrix for two batches.\n",
    "    \n",
    "    Parameters\n",
    "    ----------\n",
    "    targets_from_batch1 : endoanalysis.targets.TargetsBatchArray like\n",
    "        batch of targets corresponding to a set of images from the first rater in pair. \n",
    "        Must have have the method targets_from_batch1.from_image(), \n",
    "        returning the container of targets corrsponding to a given image.\n",
    "        The container must be compatible with similarity.\n",
    "    targets_from_batch2 :  endoanalysis.targets.TargetsBatchArray  like\n",
    "        the same as targets_from_batch1, but for the second rater.\n",
    "    similarity : endoanalysis.agreement.SimilarityMeasure\n",
    "        similarity measure, must be compatible with targets_from_batch1 and targets_from_batch2\n",
    "    indexes_to_consider : iterable\n",
    "        an iterable of image indexes which sould be taken into concideration. \n",
    "        All indexes must be present in both  targets_from_batch1 an targets_from_batch2\n",
    "    missings_as_classes : bool\n",
    "        wheather to consider not matched targeds as separate class (with -1 label)\n",
    "        \n",
    "    Returns\n",
    "    -------\n",
    "    relaibility_matrix : ndarray\n",
    "        relaibility matrix. The shape is (2, num_matched), where num_matched\n",
    "        is the number of targets which were sucsefully matched. This number\n",
    "        could not be gereater than the maximum total number of targets in\n",
    "        batch1 or batch2\n",
    "    '''\n",
    "    \n",
    "    rel_matrices = []\n",
    "    for image_i in indexes_to_consider:\n",
    "        targets1 = targets_from_batch1.from_image(image_i)\n",
    "        targets2 = targets_from_batch2.from_image(image_i)\n",
    "\n",
    "        sim_matrix = similarity.matrix(targets1, targets2)\n",
    "\n",
    "        row_ids, col_ids = linear_sum_assignment(sim_matrix, maximize=True)\n",
    "        \n",
    "        \n",
    "        rel_matrices.append(np.vstack([targets1.classes()[row_ids], targets2.classes()[col_ids]]))\n",
    "        \n",
    "        missings1 = np.setdiff1d(np.arange(len(targets1)), row_ids) \n",
    "        missings2 = np.setdiff1d(np.arange(len(targets2)), col_ids) \n",
    "\n",
    "\n",
    "        \n",
    "        rel_matrices.append(np.vstack([targets1.classes()[missings1], np.ones(len(missings1)) * -1]))\n",
    "        rel_matrices.append(np.vstack([np.ones(len(missings2)) * -1, targets2.classes()[missings2] ]))\n",
    "    relaibility_matrix = np.hstack(rel_matrices)\n",
    "    \n",
    "    return relaibility_matrix\n"
   ]
  },
  {
   "cell_type": "code",
   "execution_count": 81,
   "id": "9d7899fb-e4c6-4b85-bd77-d11f784d5e68",
   "metadata": {},
   "outputs": [
    {
     "data": {
      "text/plain": [
       "array([[ 0.,  0.,  0.,  0.,  0.,  0.,  0.,  0.,  0.,  0.,  0.,  0.,  0.,\n",
       "         0.,  0.,  0.,  0.,  0.,  0.,  0.,  0.,  0.,  0.,  0.,  0.,  0.,\n",
       "         0.,  0.,  0.,  0.,  0.,  0.,  0.,  0.,  0.,  0.,  0.,  0.,  0.,\n",
       "         0.,  0.,  0.,  0.,  0.,  0.,  0.,  0.,  0.,  0.,  0.,  0.,  0.,\n",
       "         0.,  0.,  0.,  0.,  0.,  0.,  0.,  0.,  0.,  0.,  0.,  0.,  0.,\n",
       "         0.,  0.,  0.,  0.,  0.,  0.,  0.,  0.,  0.,  0.,  0.,  0.,  0.,\n",
       "         0.,  0.,  0.,  0.,  0.,  0.,  0.,  0.,  0.,  0.,  0.,  0.,  0.,\n",
       "         0.,  0.,  0.,  0.,  0.,  0.,  0.,  0.,  0.,  0.,  0.,  0.,  0.,\n",
       "         0.,  0.,  0.,  0.,  0.,  0.,  0.,  0.,  0.,  0.,  0.,  0.,  0.,\n",
       "         0.,  0.,  0.,  0.,  0.,  0.,  0.,  0.,  0.,  0.,  0.,  0.,  0.,\n",
       "         0.,  0.,  0.,  0.,  0.,  0.,  0.,  0.,  0.,  0.,  0.,  0.,  0.,\n",
       "         0.,  0.,  0.,  0.,  0.,  0.,  0.,  0.,  1.,  1.,  1.,  1.,  1.,\n",
       "         1.,  1.,  1.,  1.,  1.,  1.,  1.,  1.,  1.,  1.,  1.,  1.,  1.,\n",
       "         1., -1., -1., -1., -1., -1., -1., -1., -1., -1., -1., -1., -1.],\n",
       "       [ 0.,  0.,  0.,  0.,  0.,  0.,  0.,  0.,  0.,  0.,  0.,  0.,  0.,\n",
       "         0.,  0.,  0.,  0.,  0.,  0.,  0.,  0.,  0.,  0.,  0.,  0.,  0.,\n",
       "         0.,  0.,  0.,  0.,  0.,  0.,  0.,  0.,  0.,  0.,  1.,  0.,  0.,\n",
       "         0.,  0.,  0.,  0.,  0.,  0.,  0.,  0.,  0.,  0.,  0.,  0.,  0.,\n",
       "         0.,  0.,  0.,  0.,  0.,  0.,  0.,  0.,  0.,  0.,  0.,  0.,  0.,\n",
       "         0.,  0.,  0.,  0.,  0.,  0.,  0.,  0.,  0.,  0.,  0.,  0.,  0.,\n",
       "         0.,  0.,  0.,  0.,  0.,  0.,  0.,  0.,  0.,  0.,  0.,  0.,  0.,\n",
       "         0.,  0.,  0.,  0.,  0.,  0.,  0.,  0.,  0.,  0.,  0.,  0.,  0.,\n",
       "         0.,  0.,  0.,  0.,  0.,  0.,  0.,  0.,  0.,  0.,  0.,  0.,  0.,\n",
       "         0.,  0.,  0.,  0.,  0.,  0.,  0.,  0.,  0.,  0.,  0.,  0.,  0.,\n",
       "         0.,  0.,  0.,  0.,  0.,  0.,  0.,  0.,  0.,  0.,  0.,  0.,  0.,\n",
       "         0.,  0.,  0.,  0.,  0.,  0.,  0.,  0.,  1.,  0.,  1.,  1.,  1.,\n",
       "         1.,  1.,  1.,  1.,  1.,  1.,  1.,  1.,  1.,  1.,  1.,  1.,  1.,\n",
       "         1.,  0.,  0.,  0.,  0.,  0.,  0.,  0.,  0.,  0.,  0.,  0.,  0.]])"
      ]
     },
     "execution_count": 81,
     "metadata": {},
     "output_type": "execute_result"
    }
   ],
   "source": [
    "get_batch_relaibility_matrix(keypoints[\"Stud1\"], keypoints[\"Stud2\"], similarity, indexes_to_consider=[4] )"
   ]
  },
  {
   "cell_type": "code",
   "execution_count": null,
   "id": "2605909e-1a36-400d-b156-c159b97e7873",
   "metadata": {},
   "outputs": [],
   "source": []
  }
 ],
 "metadata": {
  "kernelspec": {
   "display_name": "venv_histo_analyzer",
   "language": "python",
   "name": "venv_histo_analyzer"
  },
  "language_info": {
   "codemirror_mode": {
    "name": "ipython",
    "version": 3
   },
   "file_extension": ".py",
   "mimetype": "text/x-python",
   "name": "python",
   "nbconvert_exporter": "python",
   "pygments_lexer": "ipython3",
   "version": "3.8.10"
  }
 },
 "nbformat": 4,
 "nbformat_minor": 5
}
