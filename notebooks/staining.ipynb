{
 "cells": [
  {
   "cell_type": "code",
   "execution_count": 1,
   "id": "91f018cf-1d8b-42b2-8ca9-a7c0b253b68d",
   "metadata": {},
   "outputs": [],
   "source": [
    "import os\n",
    "import matplotlib.pyplot as plt\n",
    "import seaborn as sns\n",
    "import numpy as  np\n",
    "from scipy.stats import kstest\n",
    "from endoanalysis.datasets import MasksDataset\n",
    "from endoanalysis.utils import decorate_areas_distr\n",
    "from rpy2.robjects.packages import importr\n",
    "import rpy2.robjects as robjects"
   ]
  },
  {
   "cell_type": "markdown",
   "id": "e9dc27d4-700f-40f4-a5ff-d100b8b7652c",
   "metadata": {
    "tags": []
   },
   "source": [
    "Importing dab values:"
   ]
  },
  {
   "cell_type": "code",
   "execution_count": 2,
   "id": "5ea29fd8-0dad-4633-bdb2-f95f9dd3cb13",
   "metadata": {},
   "outputs": [],
   "source": [
    "DAB_VALUES_PROBES_PATH = \"../data/dab_values/probes.npy\"\n",
    "DAB_VALUES_FULL_MASKS_PATH = \"../data/dab_values/full.npy\"\n",
    "IMGS_DIR = \"figs/\""
   ]
  },
  {
   "cell_type": "code",
   "execution_count": 3,
   "id": "2d2baa39-ff96-4cc6-b7e4-1aafc7a69da9",
   "metadata": {},
   "outputs": [],
   "source": [
    "dab_values_full_masks = np.load(DAB_VALUES_FULL_MASKS_PATH)\n",
    "dab_values_probes = np.load(DAB_VALUES_PROBES_PATH)"
   ]
  },
  {
   "cell_type": "markdown",
   "id": "48e8b5f3-c0e7-448c-b725-ed8eb93d8454",
   "metadata": {},
   "source": [
    "Now lets make the plots:"
   ]
  },
  {
   "cell_type": "code",
   "execution_count": 4,
   "id": "0a285c9f-0563-4f51-8148-f18d4d8de456",
   "metadata": {
    "tags": []
   },
   "outputs": [
    {
     "data": {
      "image/png": "[encoded data removed]",
      "text/plain": [
       "<Figure size 864x288 with 2 Axes>"
      ]
     },
     "metadata": {
      "needs_background": "light"
     },
     "output_type": "display_data"
    }
   ],
   "source": [
    "fig, axs = plt.subplots(1,2, figsize=(12,4))\n",
    "bins= \"doane\"\n",
    "for ax in axs:\n",
    "    decorate_areas_distr(fig, ax, xlabel=\"Dab OD value\", ylabel=\"Nuclei count\")\n",
    "    ax.set_xlim(-0.3,2.7)\n",
    "    ax.set_ylim(0.,16000)\n",
    "_, bins_full = np.histogram(dab_values_full_masks, bins=\"doane\")   \n",
    "_, bins_probes = np.histogram(dab_values_full_masks, bins=\"doane\") \n",
    "\n",
    "sns.histplot(dab_values_full_masks, bins=int(len(bins_full)*2), ax=axs[0])\n",
    "sns.histplot(dab_values_probes, bins=int(len(bins_probes)*2), ax=axs[1])\n",
    "\n",
    "# fig.savefig(os.path.join(IMGS_DIR, \"dab_distros\"), dpi=300)"
   ]
  },
  {
   "cell_type": "markdown",
   "id": "3df4ac89-3813-4445-b93a-23eae66503b7",
   "metadata": {},
   "source": [
    "Let's check whether these two samples cam from different distributions:"
   ]
  },
  {
   "cell_type": "code",
   "execution_count": 5,
   "id": "c1daa378-db14-493e-80ec-f56e7b4ee6fe",
   "metadata": {},
   "outputs": [
    {
     "name": "stdout",
     "output_type": "stream",
     "text": [
      "0.0\n"
     ]
    }
   ],
   "source": [
    "ks_results = kstest(dab_values_full_masks, dab_values_probes)\n",
    "print(ks_results.pvalue)"
   ]
  },
  {
   "cell_type": "markdown",
   "id": "e6bfacc1-df15-4827-8cfa-9dd4311fbae1",
   "metadata": {},
   "source": [
    "The p-value is less than 2.2e-16 -- we can be sure, taht there are twqo different distributions."
   ]
  },
  {
   "cell_type": "markdown",
   "id": "96feb813-a2a2-4dc1-82d4-aa36d1f227a7",
   "metadata": {},
   "source": [
    "Now let's check for multimodality using dip test:"
   ]
  },
  {
   "cell_type": "code",
   "execution_count": 6,
   "id": "608be61a-210f-4ad0-983a-65ef19afe41e",
   "metadata": {},
   "outputs": [
    {
     "name": "stderr",
     "output_type": "stream",
     "text": [
      "R[write to console]: n = 215738 > max_n{n in table} = 72000 -- using that as asymptotic value.\n",
      "\n"
     ]
    }
   ],
   "source": [
    "importr('diptest')\n",
    "rdip = robjects.r['dip.test']\n",
    "r_full_masks = robjects.FloatVector(dab_values_full_masks)\n",
    "r_probes = robjects.FloatVector(dab_values_probes)\n",
    "test_results_full_masks = rdip(r_full_masks)\n",
    "test_results_probes = rdip(r_probes[::15])\n",
    "p_full_masks = test_results_full_masks[1][0]\n",
    "p_probes = test_results_probes[1][0]\n"
   ]
  },
  {
   "cell_type": "code",
   "execution_count": 7,
   "id": "e6800dd3-4b3e-4011-a816-192a556a36ae",
   "metadata": {},
   "outputs": [
    {
     "name": "stdout",
     "output_type": "stream",
     "text": [
      "P-value for full masks: 0.000005\n",
      "P-value for probes: 0.000000\n"
     ]
    }
   ],
   "source": [
    "print(\"P-value for full masks: %f\"%p_full_masks)\n",
    "print(\"P-value for probes: %f\"%p_probes)"
   ]
  },
  {
   "cell_type": "markdown",
   "id": "1b6482af-7858-4dfa-85b0-b75043bddbb7",
   "metadata": {},
   "source": [
    "The p-value for full masks distribution is quite small -- we can state, that at the significance level  of 0.05 the distribution has mer than one mode.\n",
    "\n",
    "The p-value for probes is less than 2.2e-16 -- we also can state, that this distibution is multimodal. "
   ]
  }
 ],
 "metadata": {
  "kernelspec": {
   "display_name": "venv_histo_analyzer",
   "language": "python",
   "name": "venv_histo_analyzer"
  },
  "language_info": {
   "codemirror_mode": {
    "name": "ipython",
    "version": 3
   },
   "file_extension": ".py",
   "mimetype": "text/x-python",
   "name": "python",
   "nbconvert_exporter": "python",
   "pygments_lexer": "ipython3",
   "version": "3.8.10"
  }
 },
 "nbformat": 4,
 "nbformat_minor": 5
}
