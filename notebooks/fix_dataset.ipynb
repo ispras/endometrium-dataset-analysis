{
 "cells": [
  {
   "cell_type": "code",
   "execution_count": 36,
   "id": "b7ba684d-f387-4929-85b7-6a9a67891f07",
   "metadata": {},
   "outputs": [],
   "source": [
    "import os\n",
    "import shutil as sh\n",
    "import numpy as np"
   ]
  },
  {
   "cell_type": "code",
   "execution_count": 2,
   "id": "2b5e0a49-1bf1-4bd8-9ee1-e923624f5224",
   "metadata": {},
   "outputs": [],
   "source": [
    "dataset_dir = \"../data/Dataset/\""
   ]
  },
  {
   "cell_type": "code",
   "execution_count": 3,
   "id": "bc72920c-e408-4371-985b-d6839de79692",
   "metadata": {},
   "outputs": [],
   "source": [
    "experts = ['Ptg1', 'Ptg2', 'Ptg3', 'Stud1', 'Stud2', 'Stud3', 'Stud4']"
   ]
  },
  {
   "cell_type": "code",
   "execution_count": 4,
   "id": "1c5aeb10-a5be-4463-8b35-7b7742008e9c",
   "metadata": {},
   "outputs": [
    {
     "data": {
      "text/plain": [
       "True"
      ]
     },
     "execution_count": 4,
     "metadata": {},
     "output_type": "execute_result"
    }
   ],
   "source": [
    "os.path.isfile(\"../data/Dataset/images/Bulk/Students/2560.png\")"
   ]
  },
  {
   "cell_type": "code",
   "execution_count": 5,
   "id": "f7ae72ed-2aeb-4b25-8192-550fcd543c5a",
   "metadata": {},
   "outputs": [],
   "source": [
    "def check_file(path, extention):\n",
    "    return path.endswith(\".\" + extention) and os.path.isfile(path)"
   ]
  },
  {
   "cell_type": "code",
   "execution_count": 6,
   "id": "811c7a6d-3d8b-4e18-9ce9-c14aabad6732",
   "metadata": {},
   "outputs": [],
   "source": [
    "def strip_images_dir_from_path(initial_path, images_dir):\n",
    "    sep = os.path.sep\n",
    "    unstripped = os.path.normpath(initial_path).split(sep)[len(os.path.normpath(images_dir).split(sep)):]\n",
    "    return os.path.join(*unstripped)\n",
    "\n",
    "def generate_new_path(initial_path, images_dir, lists_dir):\n",
    "    meaningful_part = strip_images_dir_from_path(initial_path, images_dir)\n",
    "\n",
    "    new_path = os.path.join(lists_dir, meaningful_part)\n",
    "    return new_path"
   ]
  },
  {
   "cell_type": "code",
   "execution_count": 24,
   "id": "03284e75-e684-4d2f-8409-0bd21a595928",
   "metadata": {},
   "outputs": [],
   "source": [
    "def generate_lists(source_dir, target_dir, filename, extention):\n",
    "    for root, dirs, files in os.walk(source_dir, topdown=False):\n",
    "#     for name in files:\n",
    "#         print(os.path.join(root, name))\n",
    "        for name in dirs:\n",
    "            dir_path = os.path.join(root, name)\n",
    "\n",
    "            new_dir_path = generate_new_path(dir_path, source_dir, target_dir)\n",
    "            if not os.path.exists(new_dir_path):\n",
    "                os.makedirs(new_dir_path, exist_ok=True)\n",
    "            files_paths = [os.path.relpath(os.path.join(dir_path,x), start=new_dir_path) for x in os.listdir(dir_path) if check_file(os.path.join(dir_path,x), extention)]\n",
    "            if len(files_paths):\n",
    "                with open(os.path.join(new_dir_path, \".\".join([filename, \"txt\"])), \"w+\") as file:\n",
    "\n",
    "                        lines_to_write = [str(x) for x in files_paths]\n",
    "                        lines_to_write.sort()\n",
    "                        lines_to_write = \"\\n\".join(lines_to_write)\n",
    "                        file.write(lines_to_write)\n",
    "\n",
    "            print(new_dir_path, len(files_paths))\n"
   ]
  },
  {
   "cell_type": "code",
   "execution_count": 62,
   "id": "44463b8c-2981-4cfe-acb6-437d4513c4d5",
   "metadata": {},
   "outputs": [],
   "source": [
    "def labels_float_to_int(labels_dir, extention):\n",
    "    for root, dirs, files in os.walk(labels_dir, topdown=False):\n",
    "\n",
    "        for name in dirs:\n",
    "            dir_path = os.path.join(root, name)\n",
    "\n",
    "            for filename in os.listdir(dir_path):\n",
    "                file_path = os.path.join(dir_path, filename)\n",
    "                if check_file(file_path, extention):\n",
    "                    with open(file_path, \"r\") as file:\n",
    "                        lines = file.readlines()\n",
    "                        new_lines = []\n",
    "                        for line in lines:\n",
    "                            line_contents = line.strip().split(\" \")\n",
    "                            line_rounded = tuple(str(np.round(float(x)).astype(int)) for x in line_contents)\n",
    "                            line_rounded = \" \".join(line_rounded)\n",
    "                            new_lines.append(line_rounded)\n",
    "                        new_lines = \"\\n\".join(new_lines)\n",
    "                    with open(file_path, \"w\") as file:\n",
    "                        file.write(new_lines)\n",
    "                    \n",
    "            "
   ]
  },
  {
   "cell_type": "code",
   "execution_count": 63,
   "id": "46114f01-1b0b-413e-bfcf-4e24a39620f0",
   "metadata": {
    "tags": []
   },
   "outputs": [],
   "source": [
    "labels_float_to_int(labels_dir, \"txt\")"
   ]
  },
  {
   "cell_type": "code",
   "execution_count": 25,
   "id": "8e0281ed-9252-40fe-b841-56b4405c7c4a",
   "metadata": {},
   "outputs": [
    {
     "name": "stdout",
     "output_type": "stream",
     "text": [
      "../data/Dataset/files_lists/Bulk/Students 1212\n",
      "../data/Dataset/files_lists/Bulk/Pathologists 178\n",
      "../data/Dataset/files_lists/Agreement/Hidden/Incomplete/Stud3 12\n",
      "../data/Dataset/files_lists/Agreement/Hidden/Incomplete/Ptg2 4\n",
      "../data/Dataset/files_lists/Agreement/Hidden/Incomplete/Ptg3 12\n",
      "../data/Dataset/files_lists/Agreement/Hidden/Incomplete/Stud2 15\n",
      "../data/Dataset/files_lists/Agreement/Hidden/Incomplete/Stud4 10\n",
      "../data/Dataset/files_lists/Agreement/Hidden/Incomplete/Ptg1 6\n",
      "../data/Dataset/files_lists/Agreement/Hidden/Incomplete/Stud1 10\n",
      "../data/Dataset/files_lists/Agreement/Hidden/Complete/Stud3 20\n",
      "../data/Dataset/files_lists/Agreement/Hidden/Complete/Ptg3 20\n",
      "../data/Dataset/files_lists/Agreement/Hidden/Complete/Stud2 20\n",
      "../data/Dataset/files_lists/Agreement/Hidden/Complete/Stud4 20\n",
      "../data/Dataset/files_lists/Agreement/Hidden/Complete/Stud1 20\n",
      "../data/Dataset/files_lists/Agreement/Hidden/Incomplete 0\n",
      "../data/Dataset/files_lists/Agreement/Hidden/Complete 0\n",
      "../data/Dataset/files_lists/Agreement/Explicit/Stud3 10\n",
      "../data/Dataset/files_lists/Agreement/Explicit/Ptg2 10\n",
      "../data/Dataset/files_lists/Agreement/Explicit/Ptg3 10\n",
      "../data/Dataset/files_lists/Agreement/Explicit/Stud2 10\n",
      "../data/Dataset/files_lists/Agreement/Explicit/Stud4 10\n",
      "../data/Dataset/files_lists/Agreement/Explicit/Ptg1 10\n",
      "../data/Dataset/files_lists/Agreement/Explicit/Stud1 10\n",
      "../data/Dataset/files_lists/Agreement/Hidden 0\n",
      "../data/Dataset/files_lists/Agreement/Explicit 0\n",
      "../data/Dataset/files_lists/Bulk 0\n",
      "../data/Dataset/files_lists/Agreement 0\n",
      "../data/Dataset/files_lists/Bulk/Students 1212\n",
      "../data/Dataset/files_lists/Bulk/Pathologists 178\n",
      "../data/Dataset/files_lists/Agreement/Hidden/Incomplete/Stud3 12\n",
      "../data/Dataset/files_lists/Agreement/Hidden/Incomplete/Ptg2 4\n",
      "../data/Dataset/files_lists/Agreement/Hidden/Incomplete/Ptg3 12\n",
      "../data/Dataset/files_lists/Agreement/Hidden/Incomplete/Stud2 15\n",
      "../data/Dataset/files_lists/Agreement/Hidden/Incomplete/Stud4 10\n",
      "../data/Dataset/files_lists/Agreement/Hidden/Incomplete/Ptg1 6\n",
      "../data/Dataset/files_lists/Agreement/Hidden/Incomplete/Stud1 10\n",
      "../data/Dataset/files_lists/Agreement/Hidden/Complete/Stud3 20\n",
      "../data/Dataset/files_lists/Agreement/Hidden/Complete/Ptg3 20\n",
      "../data/Dataset/files_lists/Agreement/Hidden/Complete/Stud2 20\n",
      "../data/Dataset/files_lists/Agreement/Hidden/Complete/Stud4 20\n",
      "../data/Dataset/files_lists/Agreement/Hidden/Complete/Stud1 20\n",
      "../data/Dataset/files_lists/Agreement/Hidden/Incomplete 0\n",
      "../data/Dataset/files_lists/Agreement/Hidden/Complete 0\n",
      "../data/Dataset/files_lists/Agreement/Explicit/Stud3 10\n",
      "../data/Dataset/files_lists/Agreement/Explicit/Ptg2 10\n",
      "../data/Dataset/files_lists/Agreement/Explicit/Ptg3 10\n",
      "../data/Dataset/files_lists/Agreement/Explicit/Stud2 10\n",
      "../data/Dataset/files_lists/Agreement/Explicit/Stud4 10\n",
      "../data/Dataset/files_lists/Agreement/Explicit/Ptg1 10\n",
      "../data/Dataset/files_lists/Agreement/Explicit/Stud1 10\n",
      "../data/Dataset/files_lists/Agreement/Hidden 0\n",
      "../data/Dataset/files_lists/Agreement/Explicit 0\n",
      "../data/Dataset/files_lists/Bulk 0\n",
      "../data/Dataset/files_lists/Agreement 0\n"
     ]
    }
   ],
   "source": [
    "lists_dir = os.path.join(dataset_dir, \"files_lists\")\n",
    "if os.path.exists(lists_dir):\n",
    "    sh.rmtree(lists_dir)\n",
    "images_dir = os.path.join(dataset_dir, \"images\")\n",
    "labels_dir = os.path.join(dataset_dir, \"labels\") \n",
    "    \n",
    "os.mkdir(lists_dir)\n",
    "\n",
    "generate_lists(images_dir, lists_dir, \"images\", extention=\"png\")\n",
    "generate_lists(labels_dir, lists_dir, \"labels\", extention=\"txt\")"
   ]
  },
  {
   "cell_type": "code",
   "execution_count": 8,
   "id": "088c0501-52d1-4ec3-a6c7-4ce087ce5267",
   "metadata": {},
   "outputs": [
    {
     "name": "stdout",
     "output_type": "stream",
     "text": [
      "../data/Dataset/files_lists/Bulk/Students 1212\n",
      "../data/Dataset/files_lists/Bulk/Pathologists 178\n",
      "../data/Dataset/files_lists/Agreement/Hidden/Incomplete/Stud3 12\n",
      "../data/Dataset/files_lists/Agreement/Hidden/Incomplete/Ptg2 4\n",
      "../data/Dataset/files_lists/Agreement/Hidden/Incomplete/Ptg3 12\n",
      "../data/Dataset/files_lists/Agreement/Hidden/Incomplete/Stud2 15\n",
      "../data/Dataset/files_lists/Agreement/Hidden/Incomplete/Stud4 10\n",
      "../data/Dataset/files_lists/Agreement/Hidden/Incomplete/Ptg1 6\n",
      "../data/Dataset/files_lists/Agreement/Hidden/Incomplete/Stud1 10\n",
      "../data/Dataset/files_lists/Agreement/Hidden/Complete/Stud3 20\n",
      "../data/Dataset/files_lists/Agreement/Hidden/Complete/Ptg3 20\n",
      "../data/Dataset/files_lists/Agreement/Hidden/Complete/Stud2 20\n",
      "../data/Dataset/files_lists/Agreement/Hidden/Complete/Stud4 20\n",
      "../data/Dataset/files_lists/Agreement/Hidden/Complete/Stud1 20\n",
      "../data/Dataset/files_lists/Agreement/Hidden/Incomplete 0\n",
      "../data/Dataset/files_lists/Agreement/Hidden/Complete 0\n",
      "../data/Dataset/files_lists/Agreement/Explicit/Stud3 10\n",
      "../data/Dataset/files_lists/Agreement/Explicit/Ptg2 10\n",
      "../data/Dataset/files_lists/Agreement/Explicit/Ptg3 10\n",
      "../data/Dataset/files_lists/Agreement/Explicit/Stud2 10\n",
      "../data/Dataset/files_lists/Agreement/Explicit/Stud4 10\n",
      "../data/Dataset/files_lists/Agreement/Explicit/Ptg1 10\n",
      "../data/Dataset/files_lists/Agreement/Explicit/Stud1 10\n",
      "../data/Dataset/files_lists/Agreement/Hidden 0\n",
      "../data/Dataset/files_lists/Agreement/Explicit 0\n",
      "../data/Dataset/files_lists/Bulk 0\n",
      "../data/Dataset/files_lists/Agreement 0\n"
     ]
    }
   ],
   "source": [
    "\n",
    "for root, dirs, files in os.walk(images_dir, topdown=False):\n",
    "#     for name in files:\n",
    "#         print(os.path.join(root, name))\n",
    "    for name in dirs:\n",
    "        dir_path = os.path.join(root, name)\n",
    "    \n",
    "        new_dir_path = generate_new_path(dir_path, images_dir, lists_dir)\n",
    "        os.makedirs(new_dir_path, exist_ok=True)\n",
    "        images_paths = [os.path.join(dir_path,x) for x in os.listdir(dir_path) if check_image(os.path.join(dir_path,x))]\n",
    "#         images_paths = [\".\".join(strip_images_dir_from_path(x, images_dir).split(\".\")[:-1]) for x in images_paths]\n",
    "        labels_paths = [os.path.join(dir_path,x) for x in os.listdir(dir_path) if check_image(os.path.join(dir_path,x))]\n",
    "#         images_paths = [\".\".join(strip_images_dir_from_path(x, images_dir).split(\".\")[:-1]) for x in images_paths]\n",
    "        if len(images_paths):\n",
    "            with open(os.path.join(new_dir_path, \"images.txt\"), \"w+\") as file:\n",
    "                    \n",
    "                    lines_to_write = [str(x) for x in images_paths]\n",
    "                    lines_to_write = \"\\n\".join(lines_to_write)\n",
    "                    file.write(lines_to_write)\n",
    "                \n",
    "        print(new_dir_path, len(images_paths))\n",
    "        \n",
    "\n",
    "        \n"
   ]
  },
  {
   "cell_type": "code",
   "execution_count": 85,
   "id": "2497e9b9-0b9c-49bd-8c13-1fa140abc8ab",
   "metadata": {},
   "outputs": [
    {
     "data": {
      "text/plain": [
       "[]"
      ]
     },
     "execution_count": 85,
     "metadata": {},
     "output_type": "execute_result"
    }
   ],
   "source": [
    "v"
   ]
  },
  {
   "cell_type": "code",
   "execution_count": null,
   "id": "c80a041c-5705-41dd-844a-aba28ebcd521",
   "metadata": {},
   "outputs": [],
   "source": []
  }
 ],
 "metadata": {
  "kernelspec": {
   "display_name": "venv_histo_analyzer",
   "language": "python",
   "name": "venv_histo_analyzer"
  },
  "language_info": {
   "codemirror_mode": {
    "name": "ipython",
    "version": 3
   },
   "file_extension": ".py",
   "mimetype": "text/x-python",
   "name": "python",
   "nbconvert_exporter": "python",
   "pygments_lexer": "ipython3",
   "version": "3.8.10"
  }
 },
 "nbformat": 4,
 "nbformat_minor": 5
}
